{
 "cells": [
  {
   "cell_type": "markdown",
   "id": "92920468",
   "metadata": {},
   "source": [
    "# Model to predict laptime from car and telemetry data"
   ]
  },
  {
   "cell_type": "markdown",
   "id": "d509de3e",
   "metadata": {},
   "source": [
    "### Relevant imports\n",
    "\n",
    "Using pandas and numpy to build and operate the dataframe, sklearn to encode features, XGBoost to create gradient-boosted DT ensemble, and pickle to load/store model"
   ]
  },
  {
   "cell_type": "code",
   "execution_count": 102,
   "id": "a772f5d6",
   "metadata": {},
   "outputs": [],
   "source": [
    "import fastf1\n",
    "import pandas as pd\n",
    "import numpy as np\n",
    "from sklearn.model_selection import train_test_split\n",
    "from sklearn.pipeline import Pipeline\n",
    "from sklearn.compose import ColumnTransformer\n",
    "from sklearn.preprocessing import OneHotEncoder\n",
    "from sklearn.impute import SimpleImputer\n",
    "from sklearn.metrics import mean_absolute_error, mean_squared_error\n",
    "from xgboost import XGBRegressor\n",
    "import pickle\n",
    "import os\n",
    "from tabulate import tabulate\n",
    "import seaborn as sns"
   ]
  },
  {
   "cell_type": "markdown",
   "id": "9313a13a",
   "metadata": {},
   "source": [
    "### Configuration variables"
   ]
  },
  {
   "cell_type": "markdown",
   "id": "4764a61c",
   "metadata": {},
   "source": [
    "To change year and track range, simply modify the years and tracks variables. Tracks can be found on the FastF1 API, or just use the full name of a Grand Prix from Wikipedia. Currently excludes 2025 data as it represents an incomplete season."
   ]
  },
  {
   "cell_type": "code",
   "execution_count": 79,
   "id": "4b8b537a",
   "metadata": {},
   "outputs": [],
   "source": [
    "YEARS = list(range(2018, 2025))\n",
    "TRACKS = [\n",
    "    \"Monza\", \"Silverstone\", \"Spa\", \"Baku\", \"Monaco\", \"Suzuka\", \"Interlagos\", \"Red Bull Ring\", \"Hungaroring\", \"Singapore\", \"Zandvoort\"\n",
    "]\n",
    "SESSION_CODE = \"R\"  \n",
    "MODEL_PATH = \"models/laptime_xgb_model.pkl\"\n",
    "PIPELINE_PATH = \"models/laptime_preprocessing_pipeline.pkl\""
   ]
  },
  {
   "cell_type": "markdown",
   "id": "e099c4f8",
   "metadata": {},
   "source": [
    "### Build an example of a modified DF for a single datapoint (Monaco 2023)"
   ]
  },
  {
   "cell_type": "markdown",
   "id": "b3b881e3",
   "metadata": {},
   "source": [
    "Load the session"
   ]
  },
  {
   "cell_type": "code",
   "execution_count": 80,
   "id": "7caa360b",
   "metadata": {},
   "outputs": [
    {
     "name": "stderr",
     "output_type": "stream",
     "text": [
      "core           INFO \tLoading data for Italian Grand Prix - Race [v3.6.0]\n",
      "req            INFO \tUsing cached data for session_info\n",
      "req            INFO \tUsing cached data for driver_info\n",
      "req            INFO \tUsing cached data for session_status_data\n",
      "req            INFO \tUsing cached data for lap_count\n",
      "req            INFO \tUsing cached data for track_status_data\n",
      "req            INFO \tUsing cached data for _extended_timing_data\n",
      "req            INFO \tUsing cached data for timing_app_data\n",
      "core           INFO \tProcessing timing data...\n",
      "req            INFO \tUsing cached data for car_data\n",
      "req            INFO \tUsing cached data for position_data\n",
      "req            INFO \tUsing cached data for weather_data\n",
      "req            INFO \tUsing cached data for race_control_messages\n",
      "core        WARNING \tDriver 1 completed the race distance 06:25.888000 before the recorded end of the session.\n",
      "core        WARNING \tDriver 11 completed the race distance 06:19.824000 before the recorded end of the session.\n",
      "core        WARNING \tDriver 55 completed the race distance 06:14.695000 before the recorded end of the session.\n",
      "core        WARNING \tDriver 16 completed the race distance 06:14.511000 before the recorded end of the session.\n",
      "core        WARNING \tDriver 63 completed the race distance 06:07.860000 before the recorded end of the session.\n",
      "core        WARNING \tDriver 44 completed the race distance 05:48.209000 before the recorded end of the session.\n",
      "core        WARNING \tDriver 23 completed the race distance 05:40.782000 before the recorded end of the session.\n",
      "core        WARNING \tDriver 4 completed the race distance 05:40.439000 before the recorded end of the session.\n",
      "core        WARNING \tDriver 14 completed the race distance 05:39.594000 before the recorded end of the session.\n",
      "core           INFO \tFinished loading data for 20 drivers: ['1', '11', '55', '16', '63', '44', '23', '4', '14', '77', '40', '81', '2', '24', '10', '18', '27', '20', '31', '22']\n"
     ]
    }
   ],
   "source": [
    "fastf1.Cache.enable_cache('../cache')\n",
    "session = fastf1.get_session(2023, \"Monza\", SESSION_CODE)\n",
    "session.load()"
   ]
  },
  {
   "cell_type": "markdown",
   "id": "0f872867",
   "metadata": {},
   "source": [
    "Set up the OneHotEncoder"
   ]
  },
  {
   "cell_type": "code",
   "execution_count": 81,
   "id": "3106e76e",
   "metadata": {},
   "outputs": [],
   "source": [
    "encoder = OneHotEncoder(handle_unknown = \"ignore\", sparse_output = False)"
   ]
  },
  {
   "cell_type": "markdown",
   "id": "23f4c1ce",
   "metadata": {},
   "source": [
    "Extract laps and weather data and combine the tables:"
   ]
  },
  {
   "cell_type": "code",
   "execution_count": 82,
   "id": "2d222203",
   "metadata": {},
   "outputs": [],
   "source": [
    "drivers = session.drivers\n",
    "\n",
    "laps = session.laps.reset_index(drop=True)\n",
    "weather_data = session.laps.get_weather_data().reset_index(drop=True)\n",
    "\n",
    "# Join w/ weather data, excluding time\n",
    "laps = pd.concat([laps, weather_data.loc[:, ~(weather_data.columns == 'Time')]], axis = 1)\n",
    "\n",
    "# Starting lap for a new stint after pit\n",
    "laps[\"StintStartLap\"] = laps.groupby(\"Stint\")[\"LapNumber\"].transform(\"min\")\n",
    "# Race age of current tire (excl. usage in previous sessions)\n",
    "laps[\"TireAge\"] = laps[\"LapNumber\"] - laps[\"StintStartLap\"]\n",
    "# Lap time in seconds\n",
    "laps[\"LapTimeSeconds\"] = laps[\"LapTime\"].dt.total_seconds()\n"
   ]
  },
  {
   "cell_type": "markdown",
   "id": "66c44a14",
   "metadata": {},
   "source": [
    "Extracting relevant features/label"
   ]
  },
  {
   "cell_type": "code",
   "execution_count": 83,
   "id": "facbbaa4",
   "metadata": {},
   "outputs": [
    {
     "data": {
      "text/html": [
       "<div>\n",
       "<style scoped>\n",
       "    .dataframe tbody tr th:only-of-type {\n",
       "        vertical-align: middle;\n",
       "    }\n",
       "\n",
       "    .dataframe tbody tr th {\n",
       "        vertical-align: top;\n",
       "    }\n",
       "\n",
       "    .dataframe thead th {\n",
       "        text-align: right;\n",
       "    }\n",
       "</style>\n",
       "<table border=\"1\" class=\"dataframe\">\n",
       "  <thead>\n",
       "    <tr style=\"text-align: right;\">\n",
       "      <th></th>\n",
       "      <th>LapNumber</th>\n",
       "      <th>Stint</th>\n",
       "      <th>TireAge</th>\n",
       "      <th>Compound</th>\n",
       "      <th>TrackStatus</th>\n",
       "      <th>AirTemp</th>\n",
       "      <th>TrackTemp</th>\n",
       "      <th>Rainfall</th>\n",
       "      <th>Driver</th>\n",
       "      <th>Team</th>\n",
       "      <th>LapTimeSeconds</th>\n",
       "    </tr>\n",
       "  </thead>\n",
       "  <tbody>\n",
       "    <tr>\n",
       "      <th>0</th>\n",
       "      <td>1.0</td>\n",
       "      <td>1.0</td>\n",
       "      <td>0.0</td>\n",
       "      <td>MEDIUM</td>\n",
       "      <td>1</td>\n",
       "      <td>29.2</td>\n",
       "      <td>42.5</td>\n",
       "      <td>False</td>\n",
       "      <td>VER</td>\n",
       "      <td>Red Bull Racing</td>\n",
       "      <td>87.905</td>\n",
       "    </tr>\n",
       "    <tr>\n",
       "      <th>1</th>\n",
       "      <td>2.0</td>\n",
       "      <td>1.0</td>\n",
       "      <td>1.0</td>\n",
       "      <td>MEDIUM</td>\n",
       "      <td>1</td>\n",
       "      <td>29.2</td>\n",
       "      <td>43.1</td>\n",
       "      <td>False</td>\n",
       "      <td>VER</td>\n",
       "      <td>Red Bull Racing</td>\n",
       "      <td>86.163</td>\n",
       "    </tr>\n",
       "    <tr>\n",
       "      <th>2</th>\n",
       "      <td>3.0</td>\n",
       "      <td>1.0</td>\n",
       "      <td>2.0</td>\n",
       "      <td>MEDIUM</td>\n",
       "      <td>1</td>\n",
       "      <td>29.3</td>\n",
       "      <td>43.2</td>\n",
       "      <td>False</td>\n",
       "      <td>VER</td>\n",
       "      <td>Red Bull Racing</td>\n",
       "      <td>85.702</td>\n",
       "    </tr>\n",
       "    <tr>\n",
       "      <th>3</th>\n",
       "      <td>4.0</td>\n",
       "      <td>1.0</td>\n",
       "      <td>3.0</td>\n",
       "      <td>MEDIUM</td>\n",
       "      <td>1</td>\n",
       "      <td>29.5</td>\n",
       "      <td>43.1</td>\n",
       "      <td>False</td>\n",
       "      <td>VER</td>\n",
       "      <td>Red Bull Racing</td>\n",
       "      <td>86.050</td>\n",
       "    </tr>\n",
       "    <tr>\n",
       "      <th>4</th>\n",
       "      <td>5.0</td>\n",
       "      <td>1.0</td>\n",
       "      <td>4.0</td>\n",
       "      <td>MEDIUM</td>\n",
       "      <td>1</td>\n",
       "      <td>29.5</td>\n",
       "      <td>43.1</td>\n",
       "      <td>False</td>\n",
       "      <td>VER</td>\n",
       "      <td>Red Bull Racing</td>\n",
       "      <td>86.176</td>\n",
       "    </tr>\n",
       "  </tbody>\n",
       "</table>\n",
       "</div>"
      ],
      "text/plain": [
       "   LapNumber  Stint  TireAge Compound TrackStatus  AirTemp  TrackTemp  \\\n",
       "0        1.0    1.0      0.0   MEDIUM           1     29.2       42.5   \n",
       "1        2.0    1.0      1.0   MEDIUM           1     29.2       43.1   \n",
       "2        3.0    1.0      2.0   MEDIUM           1     29.3       43.2   \n",
       "3        4.0    1.0      3.0   MEDIUM           1     29.5       43.1   \n",
       "4        5.0    1.0      4.0   MEDIUM           1     29.5       43.1   \n",
       "\n",
       "   Rainfall Driver             Team  LapTimeSeconds  \n",
       "0     False    VER  Red Bull Racing          87.905  \n",
       "1     False    VER  Red Bull Racing          86.163  \n",
       "2     False    VER  Red Bull Racing          85.702  \n",
       "3     False    VER  Red Bull Racing          86.050  \n",
       "4     False    VER  Red Bull Racing          86.176  "
      ]
     },
     "execution_count": 83,
     "metadata": {},
     "output_type": "execute_result"
    }
   ],
   "source": [
    "laps = laps[[\"LapNumber\", \"Stint\", \"TireAge\", \"Compound\", \"TrackStatus\", \"AirTemp\", \"TrackTemp\", \"Rainfall\", \"Driver\", \"Team\", \"LapTimeSeconds\"]]\n",
    "laps.head(5)"
   ]
  },
  {
   "cell_type": "markdown",
   "id": "eebcc988",
   "metadata": {},
   "source": [
    "### Extracting lap data for the entire range of data, defined by config variables"
   ]
  },
  {
   "cell_type": "markdown",
   "id": "24dbcf6b",
   "metadata": {},
   "source": [
    "Same logic as above, just for all years and drivers"
   ]
  },
  {
   "cell_type": "code",
   "execution_count": null,
   "id": "1b92b5a7",
   "metadata": {},
   "outputs": [],
   "source": [
    "all_laps = []\n",
    "for year in YEARS:\n",
    "    for event in TRACKS:\n",
    "        try:\n",
    "            session = fastf1.get_session(year, event, SESSION_CODE)\n",
    "            session.load()\n",
    "            laps = session.laps.reset_index(drop=True)\n",
    "            weather_data = session.laps.get_weather_data().reset_index(drop=True)\n",
    "\n",
    "            # Join w/ weather data, excluding time\n",
    "            laps = pd.concat([laps, weather_data.loc[:, ~(weather_data.columns == 'Time')]], axis = 1)\n",
    "\n",
    "            # Starting lap for a new stint after pit\n",
    "            laps[\"StintStartLap\"] = laps.groupby(\"Stint\")[\"LapNumber\"].transform(\"min\")\n",
    "            # Race age of current tire (excl. usage in previous sessions)\n",
    "            laps[\"TireAge\"] = laps[\"LapNumber\"] - laps[\"StintStartLap\"]\n",
    "            # Lap time in seconds\n",
    "            laps[\"LapTimeSeconds\"] = laps[\"LapTime\"].dt.total_seconds()\n",
    "            laps = laps[[\"LapNumber\", \"Stint\", \"TireAge\", \"Compound\", \"TrackStatus\", \n",
    "                                \"AirTemp\", \"TrackTemp\", \"Rainfall\", \"Driver\", \"Team\", \"LapTimeSeconds\"]].copy()\n",
    "            laps[\"Year\"] = year\n",
    "            laps[\"Track\"] = event\n",
    "            all_laps.append(laps)\n",
    "            print(f\"Loaded {event} {year} ({len(laps)} laps)\")\n",
    "        except Exception as e:\n",
    "            print(f\"Skipping {event} {year}: {e}\")\n",
    "if not all_laps:\n",
    "    raise RuntimeError(\"No lap data extracted. Check your years/tracks list or FastF1 setup.\")\n",
    "df = pd.concat(all_laps, ignore_index=True)\n"
   ]
  },
  {
   "cell_type": "markdown",
   "id": "6a0312ed",
   "metadata": {},
   "source": [
    "### Preprocessing the data"
   ]
  },
  {
   "cell_type": "markdown",
   "id": "942bdef8",
   "metadata": {},
   "source": [
    "Drop any missing data (no reasonable estimate) or fill with mean value , define features/target, and perform test/train split"
   ]
  },
  {
   "cell_type": "code",
   "execution_count": 122,
   "id": "1d778ba0",
   "metadata": {},
   "outputs": [],
   "source": [
    "# drop any missing lap time values\n",
    "df = df.dropna(subset = [\"LapTimeSeconds\"])\n",
    "df = df.dropna()\n",
    "df = df.reset_index(drop=True) \n",
    "\n",
    "# convert rainfall boolean to integer 1/0\n",
    "df[\"Rainfall\"] = df[\"Rainfall\"].astype(int)\n",
    "    "
   ]
  },
  {
   "cell_type": "markdown",
   "id": "3e8998db",
   "metadata": {},
   "source": [
    "Define features/label"
   ]
  },
  {
   "cell_type": "code",
   "execution_count": 123,
   "id": "b1f2f80b",
   "metadata": {},
   "outputs": [],
   "source": [
    "X = df[[\n",
    "        \"Compound\", \"TireAge\", \"LapNumber\", \"Stint\", \"TrackStatus\",\n",
    "        \"AirTemp\", \"TrackTemp\", \"Driver\", \"Team\"\n",
    "    ]]\n",
    "y = df[\"LapTimeSeconds\"]"
   ]
  },
  {
   "cell_type": "markdown",
   "id": "5cbb0153",
   "metadata": {},
   "source": [
    "Categorical/numerical preprocessing"
   ]
  },
  {
   "cell_type": "code",
   "execution_count": 124,
   "id": "e46c81c9",
   "metadata": {},
   "outputs": [
    {
     "name": "stderr",
     "output_type": "stream",
     "text": [
      "/var/folders/9w/zgdt459s4994dgldr004clnw0000gn/T/ipykernel_33153/3181105805.py:11: SettingWithCopyWarning: \n",
      "A value is trying to be set on a copy of a slice from a DataFrame.\n",
      "Try using .loc[row_indexer,col_indexer] = value instead\n",
      "\n",
      "See the caveats in the documentation: https://pandas.pydata.org/pandas-docs/stable/user_guide/indexing.html#returning-a-view-versus-a-copy\n",
      "  X[col] = X[col].fillna(\"missing\")\n"
     ]
    }
   ],
   "source": [
    "categorical = [\"Compound\", \"TrackStatus\", \"Driver\", \"Team\"]\n",
    "numerical = [\"TireAge\", \"LapNumber\", \"Stint\", \"AirTemp\", \"TrackTemp\", \"Rainfall\"]\n",
    "\n",
    "preprocessor = ColumnTransformer([\n",
    "        (\"cat\", encoder, categorical),\n",
    "        (\"num\", SimpleImputer(strategy=\"mean\"), numerical)\n",
    "    ])\n",
    "\n",
    "# add \"missing\" to any missing categorical data\n",
    "for col in categorical:\n",
    "    X[col] = X[col].fillna(\"missing\")"
   ]
  },
  {
   "cell_type": "markdown",
   "id": "c2ba4f9d",
   "metadata": {},
   "source": [
    "Train/test/val split"
   ]
  },
  {
   "cell_type": "code",
   "execution_count": 125,
   "id": "04a38c47",
   "metadata": {},
   "outputs": [],
   "source": [
    "X_train, X_test, y_train, y_test = train_test_split(X, y, test_size=0.1, random_state=42)\n",
    "\n",
    "X_train, X_val, y_train, y_val = train_test_split(X_train, y_train, test_size=0.111111, random_state=1) # 0.11 x 0.9 = 0.1"
   ]
  }
 ],
 "metadata": {
  "kernelspec": {
   "display_name": "f1env",
   "language": "python",
   "name": "python3"
  },
  "language_info": {
   "codemirror_mode": {
    "name": "ipython",
    "version": 3
   },
   "file_extension": ".py",
   "mimetype": "text/x-python",
   "name": "python",
   "nbconvert_exporter": "python",
   "pygments_lexer": "ipython3",
   "version": "3.12.4"
  }
 },
 "nbformat": 4,
 "nbformat_minor": 5
}
